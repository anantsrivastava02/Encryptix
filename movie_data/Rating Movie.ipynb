{
 "cells": [
  {
   "cell_type": "code",
   "execution_count": 361,
   "id": "8450af2c",
   "metadata": {},
   "outputs": [],
   "source": [
    "import pandas as pd \n",
    "import numpy as np \n",
    "import matplotlib.pyplot as plt \n",
    "import seaborn as sns "
   ]
  },
  {
   "cell_type": "code",
   "execution_count": 362,
   "id": "8cf054d5",
   "metadata": {},
   "outputs": [],
   "source": [
    "data = pd.read_csv(\"IMDb Movies India.csv\" , encoding=\"ISO-8859-1\")"
   ]
  },
  {
   "cell_type": "code",
   "execution_count": 363,
   "id": "4ca4d99c",
   "metadata": {},
   "outputs": [
    {
     "data": {
      "text/html": [
       "<div>\n",
       "<style scoped>\n",
       "    .dataframe tbody tr th:only-of-type {\n",
       "        vertical-align: middle;\n",
       "    }\n",
       "\n",
       "    .dataframe tbody tr th {\n",
       "        vertical-align: top;\n",
       "    }\n",
       "\n",
       "    .dataframe thead th {\n",
       "        text-align: right;\n",
       "    }\n",
       "</style>\n",
       "<table border=\"1\" class=\"dataframe\">\n",
       "  <thead>\n",
       "    <tr style=\"text-align: right;\">\n",
       "      <th></th>\n",
       "      <th>Name</th>\n",
       "      <th>Year</th>\n",
       "      <th>Duration</th>\n",
       "      <th>Genre</th>\n",
       "      <th>Rating</th>\n",
       "      <th>Votes</th>\n",
       "      <th>Director</th>\n",
       "      <th>Actor 1</th>\n",
       "      <th>Actor 2</th>\n",
       "      <th>Actor 3</th>\n",
       "    </tr>\n",
       "  </thead>\n",
       "  <tbody>\n",
       "    <tr>\n",
       "      <th>0</th>\n",
       "      <td></td>\n",
       "      <td>NaN</td>\n",
       "      <td>NaN</td>\n",
       "      <td>Drama</td>\n",
       "      <td>NaN</td>\n",
       "      <td>NaN</td>\n",
       "      <td>J.S. Randhawa</td>\n",
       "      <td>Manmauji</td>\n",
       "      <td>Birbal</td>\n",
       "      <td>Rajendra Bhatia</td>\n",
       "    </tr>\n",
       "    <tr>\n",
       "      <th>1</th>\n",
       "      <td>#Gadhvi (He thought he was Gandhi)</td>\n",
       "      <td>(2019)</td>\n",
       "      <td>109 min</td>\n",
       "      <td>Drama</td>\n",
       "      <td>7.0</td>\n",
       "      <td>8</td>\n",
       "      <td>Gaurav Bakshi</td>\n",
       "      <td>Rasika Dugal</td>\n",
       "      <td>Vivek Ghamande</td>\n",
       "      <td>Arvind Jangid</td>\n",
       "    </tr>\n",
       "    <tr>\n",
       "      <th>2</th>\n",
       "      <td>#Homecoming</td>\n",
       "      <td>(2021)</td>\n",
       "      <td>90 min</td>\n",
       "      <td>Drama, Musical</td>\n",
       "      <td>NaN</td>\n",
       "      <td>NaN</td>\n",
       "      <td>Soumyajit Majumdar</td>\n",
       "      <td>Sayani Gupta</td>\n",
       "      <td>Plabita Borthakur</td>\n",
       "      <td>Roy Angana</td>\n",
       "    </tr>\n",
       "    <tr>\n",
       "      <th>3</th>\n",
       "      <td>#Yaaram</td>\n",
       "      <td>(2019)</td>\n",
       "      <td>110 min</td>\n",
       "      <td>Comedy, Romance</td>\n",
       "      <td>4.4</td>\n",
       "      <td>35</td>\n",
       "      <td>Ovais Khan</td>\n",
       "      <td>Prateik</td>\n",
       "      <td>Ishita Raj</td>\n",
       "      <td>Siddhant Kapoor</td>\n",
       "    </tr>\n",
       "    <tr>\n",
       "      <th>4</th>\n",
       "      <td>...And Once Again</td>\n",
       "      <td>(2010)</td>\n",
       "      <td>105 min</td>\n",
       "      <td>Drama</td>\n",
       "      <td>NaN</td>\n",
       "      <td>NaN</td>\n",
       "      <td>Amol Palekar</td>\n",
       "      <td>Rajat Kapoor</td>\n",
       "      <td>Rituparna Sengupta</td>\n",
       "      <td>Antara Mali</td>\n",
       "    </tr>\n",
       "  </tbody>\n",
       "</table>\n",
       "</div>"
      ],
      "text/plain": [
       "                                 Name    Year Duration            Genre  \\\n",
       "0                                         NaN      NaN            Drama   \n",
       "1  #Gadhvi (He thought he was Gandhi)  (2019)  109 min            Drama   \n",
       "2                         #Homecoming  (2021)   90 min   Drama, Musical   \n",
       "3                             #Yaaram  (2019)  110 min  Comedy, Romance   \n",
       "4                   ...And Once Again  (2010)  105 min            Drama   \n",
       "\n",
       "   Rating Votes            Director       Actor 1             Actor 2  \\\n",
       "0     NaN   NaN       J.S. Randhawa      Manmauji              Birbal   \n",
       "1     7.0     8       Gaurav Bakshi  Rasika Dugal      Vivek Ghamande   \n",
       "2     NaN   NaN  Soumyajit Majumdar  Sayani Gupta   Plabita Borthakur   \n",
       "3     4.4    35          Ovais Khan       Prateik          Ishita Raj   \n",
       "4     NaN   NaN        Amol Palekar  Rajat Kapoor  Rituparna Sengupta   \n",
       "\n",
       "           Actor 3  \n",
       "0  Rajendra Bhatia  \n",
       "1    Arvind Jangid  \n",
       "2       Roy Angana  \n",
       "3  Siddhant Kapoor  \n",
       "4      Antara Mali  "
      ]
     },
     "execution_count": 363,
     "metadata": {},
     "output_type": "execute_result"
    }
   ],
   "source": [
    "data.head()"
   ]
  },
  {
   "cell_type": "code",
   "execution_count": 364,
   "id": "a798d965",
   "metadata": {},
   "outputs": [
    {
     "name": "stdout",
     "output_type": "stream",
     "text": [
      "<class 'pandas.core.frame.DataFrame'>\n",
      "RangeIndex: 15509 entries, 0 to 15508\n",
      "Data columns (total 10 columns):\n",
      " #   Column    Non-Null Count  Dtype  \n",
      "---  ------    --------------  -----  \n",
      " 0   Name      15509 non-null  object \n",
      " 1   Year      14981 non-null  object \n",
      " 2   Duration  7240 non-null   object \n",
      " 3   Genre     13632 non-null  object \n",
      " 4   Rating    7919 non-null   float64\n",
      " 5   Votes     7920 non-null   object \n",
      " 6   Director  14984 non-null  object \n",
      " 7   Actor 1   13892 non-null  object \n",
      " 8   Actor 2   13125 non-null  object \n",
      " 9   Actor 3   12365 non-null  object \n",
      "dtypes: float64(1), object(9)\n",
      "memory usage: 1.2+ MB\n"
     ]
    }
   ],
   "source": [
    "data.info()"
   ]
  },
  {
   "cell_type": "code",
   "execution_count": 365,
   "id": "04881704",
   "metadata": {},
   "outputs": [
    {
     "data": {
      "text/plain": [
       "array([nan, '(2019)', '(2021)', '(2010)', '(1997)', '(2005)', '(2008)',\n",
       "       '(2012)', '(2014)', '(2004)', '(2016)', '(1991)', '(1990)',\n",
       "       '(2018)', '(1987)', '(1948)', '(1958)', '(2017)', '(2020)',\n",
       "       '(2009)', '(2002)', '(1993)', '(1946)', '(1994)', '(2007)',\n",
       "       '(2013)', '(2003)', '(1998)', '(1979)', '(1951)', '(1956)',\n",
       "       '(1974)', '(2015)', '(2006)', '(1981)', '(1985)', '(2011)',\n",
       "       '(2001)', '(1967)', '(1988)', '(1995)', '(1959)', '(1996)',\n",
       "       '(1970)', '(1976)', '(2000)', '(1999)', '(1973)', '(1968)',\n",
       "       '(1943)', '(1953)', '(1986)', '(1983)', '(1989)', '(1982)',\n",
       "       '(1977)', '(1957)', '(1950)', '(1992)', '(1969)', '(1975)',\n",
       "       '(1947)', '(1972)', '(1971)', '(1935)', '(1978)', '(1960)',\n",
       "       '(1944)', '(1963)', '(1940)', '(1984)', '(1934)', '(1955)',\n",
       "       '(1936)', '(1980)', '(1966)', '(1949)', '(1962)', '(1964)',\n",
       "       '(1952)', '(1933)', '(1942)', '(1939)', '(1954)', '(1945)',\n",
       "       '(1961)', '(1965)', '(1938)', '(1941)', '(1931)', '(1937)',\n",
       "       '(2022)', '(1932)', '(1923)', '(1915)', '(1928)', '(1922)',\n",
       "       '(1917)', '(1913)', '(1930)', '(1926)', '(1914)', '(1924)'],\n",
       "      dtype=object)"
      ]
     },
     "execution_count": 365,
     "metadata": {},
     "output_type": "execute_result"
    }
   ],
   "source": [
    "data[\"Year\"].unique()"
   ]
  },
  {
   "cell_type": "code",
   "execution_count": 366,
   "id": "772a5027",
   "metadata": {},
   "outputs": [],
   "source": [
    "data[\"Year\"] = data[\"Year\"].str.replace(r'[^\\d]', '', regex=True)\n",
    "data[\"Year\"] = data[\"Year\"].astype('float32')\n"
   ]
  },
  {
   "cell_type": "code",
   "execution_count": 367,
   "id": "9c7842ae",
   "metadata": {},
   "outputs": [
    {
     "data": {
      "text/plain": [
       "528"
      ]
     },
     "execution_count": 367,
     "metadata": {},
     "output_type": "execute_result"
    }
   ],
   "source": [
    "data[\"Year\"].isnull().sum()"
   ]
  },
  {
   "cell_type": "code",
   "execution_count": 368,
   "id": "f5f6221c",
   "metadata": {},
   "outputs": [],
   "source": [
    "x = int(data[\"Year\"].mean())\n",
    "data[\"Year\"] = data[\"Year\"].fillna(x)"
   ]
  },
  {
   "cell_type": "code",
   "execution_count": 369,
   "id": "5ea8e786",
   "metadata": {},
   "outputs": [
    {
     "data": {
      "text/plain": [
       "0"
      ]
     },
     "execution_count": 369,
     "metadata": {},
     "output_type": "execute_result"
    }
   ],
   "source": [
    "data[\"Year\"].isnull().sum()"
   ]
  },
  {
   "cell_type": "code",
   "execution_count": 370,
   "id": "1981776a",
   "metadata": {},
   "outputs": [
    {
     "data": {
      "text/plain": [
       "array(['Manmauji', 'Rasika Dugal', 'Sayani Gupta', ..., 'Meghan Jadhav',\n",
       "       'Roohi Berde', 'Sangeeta Tiwari'], dtype=object)"
      ]
     },
     "execution_count": 370,
     "metadata": {},
     "output_type": "execute_result"
    }
   ],
   "source": [
    "data[\"Actor 1\"].unique()"
   ]
  },
  {
   "cell_type": "code",
   "execution_count": 371,
   "id": "e2bd3280",
   "metadata": {},
   "outputs": [],
   "source": [
    "actor_columns = [\"Actor 1\", \"Actor 2\", \"Actor 3\" , \"Director\"]\n",
    "\n",
    "all_names = []\n",
    "for col in actor_columns:\n",
    "    all_names.extend(data[col].tolist())\n",
    "\n",
    "unique_names = list(set(all_names))\n",
    "name_to_number = {name: idx for idx, name in enumerate(unique_names)}"
   ]
  },
  {
   "cell_type": "code",
   "execution_count": 372,
   "id": "fb08dbff",
   "metadata": {},
   "outputs": [],
   "source": [
    "data[\"Actor 1\"] = data[\"Actor 1\"].apply(lambda x : name_to_number[x])"
   ]
  },
  {
   "cell_type": "code",
   "execution_count": 373,
   "id": "70dcba97",
   "metadata": {},
   "outputs": [],
   "source": [
    "data[\"Director\"] = data[\"Director\"].apply(lambda x : name_to_number[x])"
   ]
  },
  {
   "cell_type": "code",
   "execution_count": null,
   "id": "e8f6e91c",
   "metadata": {},
   "outputs": [],
   "source": []
  },
  {
   "cell_type": "code",
   "execution_count": 374,
   "id": "480b3950",
   "metadata": {},
   "outputs": [
    {
     "data": {
      "text/html": [
       "<div>\n",
       "<style scoped>\n",
       "    .dataframe tbody tr th:only-of-type {\n",
       "        vertical-align: middle;\n",
       "    }\n",
       "\n",
       "    .dataframe tbody tr th {\n",
       "        vertical-align: top;\n",
       "    }\n",
       "\n",
       "    .dataframe thead th {\n",
       "        text-align: right;\n",
       "    }\n",
       "</style>\n",
       "<table border=\"1\" class=\"dataframe\">\n",
       "  <thead>\n",
       "    <tr style=\"text-align: right;\">\n",
       "      <th></th>\n",
       "      <th>Name</th>\n",
       "      <th>Year</th>\n",
       "      <th>Duration</th>\n",
       "      <th>Genre</th>\n",
       "      <th>Rating</th>\n",
       "      <th>Votes</th>\n",
       "      <th>Director</th>\n",
       "      <th>Actor 1</th>\n",
       "      <th>Actor 2</th>\n",
       "      <th>Actor 3</th>\n",
       "    </tr>\n",
       "  </thead>\n",
       "  <tbody>\n",
       "    <tr>\n",
       "      <th>0</th>\n",
       "      <td></td>\n",
       "      <td>1987.0</td>\n",
       "      <td>NaN</td>\n",
       "      <td>Drama</td>\n",
       "      <td>NaN</td>\n",
       "      <td>NaN</td>\n",
       "      <td>10217</td>\n",
       "      <td>4549</td>\n",
       "      <td>Birbal</td>\n",
       "      <td>Rajendra Bhatia</td>\n",
       "    </tr>\n",
       "    <tr>\n",
       "      <th>1</th>\n",
       "      <td>#Gadhvi (He thought he was Gandhi)</td>\n",
       "      <td>2019.0</td>\n",
       "      <td>109 min</td>\n",
       "      <td>Drama</td>\n",
       "      <td>7.0</td>\n",
       "      <td>8</td>\n",
       "      <td>9056</td>\n",
       "      <td>12004</td>\n",
       "      <td>Vivek Ghamande</td>\n",
       "      <td>Arvind Jangid</td>\n",
       "    </tr>\n",
       "    <tr>\n",
       "      <th>2</th>\n",
       "      <td>#Homecoming</td>\n",
       "      <td>2021.0</td>\n",
       "      <td>90 min</td>\n",
       "      <td>Drama, Musical</td>\n",
       "      <td>NaN</td>\n",
       "      <td>NaN</td>\n",
       "      <td>10843</td>\n",
       "      <td>11514</td>\n",
       "      <td>Plabita Borthakur</td>\n",
       "      <td>Roy Angana</td>\n",
       "    </tr>\n",
       "    <tr>\n",
       "      <th>3</th>\n",
       "      <td>#Yaaram</td>\n",
       "      <td>2019.0</td>\n",
       "      <td>110 min</td>\n",
       "      <td>Comedy, Romance</td>\n",
       "      <td>4.4</td>\n",
       "      <td>35</td>\n",
       "      <td>10643</td>\n",
       "      <td>3934</td>\n",
       "      <td>Ishita Raj</td>\n",
       "      <td>Siddhant Kapoor</td>\n",
       "    </tr>\n",
       "    <tr>\n",
       "      <th>4</th>\n",
       "      <td>...And Once Again</td>\n",
       "      <td>2010.0</td>\n",
       "      <td>105 min</td>\n",
       "      <td>Drama</td>\n",
       "      <td>NaN</td>\n",
       "      <td>NaN</td>\n",
       "      <td>9804</td>\n",
       "      <td>5230</td>\n",
       "      <td>Rituparna Sengupta</td>\n",
       "      <td>Antara Mali</td>\n",
       "    </tr>\n",
       "  </tbody>\n",
       "</table>\n",
       "</div>"
      ],
      "text/plain": [
       "                                 Name    Year Duration            Genre  \\\n",
       "0                                      1987.0      NaN            Drama   \n",
       "1  #Gadhvi (He thought he was Gandhi)  2019.0  109 min            Drama   \n",
       "2                         #Homecoming  2021.0   90 min   Drama, Musical   \n",
       "3                             #Yaaram  2019.0  110 min  Comedy, Romance   \n",
       "4                   ...And Once Again  2010.0  105 min            Drama   \n",
       "\n",
       "   Rating Votes  Director  Actor 1             Actor 2          Actor 3  \n",
       "0     NaN   NaN     10217     4549              Birbal  Rajendra Bhatia  \n",
       "1     7.0     8      9056    12004      Vivek Ghamande    Arvind Jangid  \n",
       "2     NaN   NaN     10843    11514   Plabita Borthakur       Roy Angana  \n",
       "3     4.4    35     10643     3934          Ishita Raj  Siddhant Kapoor  \n",
       "4     NaN   NaN      9804     5230  Rituparna Sengupta      Antara Mali  "
      ]
     },
     "execution_count": 374,
     "metadata": {},
     "output_type": "execute_result"
    }
   ],
   "source": [
    "data.head()"
   ]
  },
  {
   "cell_type": "code",
   "execution_count": 375,
   "id": "f595744d",
   "metadata": {},
   "outputs": [],
   "source": [
    "data[\"Votes\"] = data[\"Votes\"].str.replace(',' , '')\n",
    "data[\"Votes\"] = data[\"Votes\"].str.replace('$' , '')\n",
    "data[\"Votes\"] = data[\"Votes\"].str.replace('M' , '')\n",
    "data[\"Votes\"] = data[\"Votes\"].astype('float32')\n"
   ]
  },
  {
   "cell_type": "code",
   "execution_count": 376,
   "id": "4a9874a0",
   "metadata": {},
   "outputs": [],
   "source": [
    "x =int(data[\"Votes\"].mean())\n",
    "data[\"Votes\"].fillna(x ,inplace =True)"
   ]
  },
  {
   "cell_type": "code",
   "execution_count": 377,
   "id": "8586cb3b",
   "metadata": {},
   "outputs": [
    {
     "data": {
      "text/plain": [
       "7590"
      ]
     },
     "execution_count": 377,
     "metadata": {},
     "output_type": "execute_result"
    }
   ],
   "source": [
    "data[\"Rating\"].isnull().sum()"
   ]
  },
  {
   "cell_type": "code",
   "execution_count": 378,
   "id": "817379b6",
   "metadata": {},
   "outputs": [
    {
     "data": {
      "text/plain": [
       "(15509, 10)"
      ]
     },
     "execution_count": 378,
     "metadata": {},
     "output_type": "execute_result"
    }
   ],
   "source": [
    "data.shape"
   ]
  },
  {
   "cell_type": "code",
   "execution_count": 379,
   "id": "c75252c1",
   "metadata": {},
   "outputs": [
    {
     "name": "stdout",
     "output_type": "stream",
     "text": [
      "<class 'pandas.core.frame.DataFrame'>\n",
      "RangeIndex: 15509 entries, 0 to 15508\n",
      "Data columns (total 10 columns):\n",
      " #   Column    Non-Null Count  Dtype  \n",
      "---  ------    --------------  -----  \n",
      " 0   Name      15509 non-null  object \n",
      " 1   Year      15509 non-null  float32\n",
      " 2   Duration  7240 non-null   object \n",
      " 3   Genre     13632 non-null  object \n",
      " 4   Rating    7919 non-null   float64\n",
      " 5   Votes     15509 non-null  float32\n",
      " 6   Director  15509 non-null  int64  \n",
      " 7   Actor 1   15509 non-null  int64  \n",
      " 8   Actor 2   13125 non-null  object \n",
      " 9   Actor 3   12365 non-null  object \n",
      "dtypes: float32(2), float64(1), int64(2), object(5)\n",
      "memory usage: 1.1+ MB\n"
     ]
    }
   ],
   "source": [
    "data.info()"
   ]
  },
  {
   "cell_type": "code",
   "execution_count": 380,
   "id": "b6b19300",
   "metadata": {},
   "outputs": [],
   "source": [
    "\n",
    "data[\"Duration\"] = data[\"Duration\"].replace(r'\\D+', '', regex=True)\n",
    "\n",
    "data[\"Duration\"] = pd.to_numeric(data[\"Duration\"], errors='coerce')\n",
    "\n",
    "mean_duration = data[\"Duration\"].mean()\n",
    "\n",
    "data[\"Duration\"].fillna(mean_duration, inplace=True)\n",
    "\n",
    "data[\"Duration\"] = data[\"Duration\"].astype(\"int32\")\n"
   ]
  },
  {
   "cell_type": "code",
   "execution_count": 381,
   "id": "a68856d1",
   "metadata": {},
   "outputs": [],
   "source": [
    "def split_genre_column(MovieData,Genre):\n",
    "   \n",
    "    data['Genre1'] = data[Genre].str.split(',', expand=True)[0]\n",
    "    data['Genre2'] = data[Genre].str.split(',', expand=True)[1]\n",
    "    data['Genre3'] = data[Genre].str.split(',', expand=True)[2]\n",
    "    return data\n",
    "\n",
    "split_genre_column(data,'Genre')\n",
    "data.drop(\"Genre\"  , axis = 1 , inplace = True)"
   ]
  },
  {
   "cell_type": "code",
   "execution_count": 382,
   "id": "15c16bb9",
   "metadata": {},
   "outputs": [],
   "source": [
    "data.head()\n",
    "data[\"Rating\"] = data[\"Rating\"].dropna()"
   ]
  },
  {
   "cell_type": "code",
   "execution_count": 383,
   "id": "e8d8ae19",
   "metadata": {},
   "outputs": [],
   "source": [
    "data.drop(\"Genre3\" , axis = 1 , inplace = True )"
   ]
  },
  {
   "cell_type": "code",
   "execution_count": 384,
   "id": "640d5f39",
   "metadata": {},
   "outputs": [],
   "source": [
    "data.dropna(subset=[\"Rating\"], inplace=True)"
   ]
  },
  {
   "cell_type": "code",
   "execution_count": 385,
   "id": "ca258375",
   "metadata": {},
   "outputs": [],
   "source": [
    "data.drop(\"Genre2\" , axis = 1 ,  inplace = True)"
   ]
  },
  {
   "cell_type": "code",
   "execution_count": 386,
   "id": "c3210d88",
   "metadata": {},
   "outputs": [
    {
     "name": "stdout",
     "output_type": "stream",
     "text": [
      "<class 'pandas.core.frame.DataFrame'>\n",
      "Index: 7919 entries, 1 to 15508\n",
      "Data columns (total 9 columns):\n",
      " #   Column    Non-Null Count  Dtype  \n",
      "---  ------    --------------  -----  \n",
      " 0   Year      7919 non-null   float32\n",
      " 1   Duration  7919 non-null   int32  \n",
      " 2   Rating    7919 non-null   float64\n",
      " 3   Votes     7919 non-null   float32\n",
      " 4   Director  7919 non-null   int64  \n",
      " 5   Actor 1   7919 non-null   int64  \n",
      " 6   Actor 2   7719 non-null   object \n",
      " 7   Actor 3   7627 non-null   object \n",
      " 8   Genre1    7817 non-null   object \n",
      "dtypes: float32(2), float64(1), int32(1), int64(2), object(3)\n",
      "memory usage: 525.9+ KB\n"
     ]
    }
   ],
   "source": [
    "data.drop(\"Name\" , axis = 1 ,  inplace = True)\n",
    "\n",
    "data.info()"
   ]
  },
  {
   "cell_type": "code",
   "execution_count": 387,
   "id": "2a85143f",
   "metadata": {},
   "outputs": [],
   "source": [
    "data.dropna(subset = [\"Genre1\"] , inplace = True)"
   ]
  },
  {
   "cell_type": "code",
   "execution_count": 388,
   "id": "8ca0fb2c",
   "metadata": {},
   "outputs": [],
   "source": [
    "data.drop([\"Actor 2\" , \"Actor 3\"] , axis = 1 , inplace = True)"
   ]
  },
  {
   "cell_type": "code",
   "execution_count": 389,
   "id": "881974ef",
   "metadata": {},
   "outputs": [],
   "source": [
    "dict = {} \n",
    "dict = {value : key for key , value in enumerate(data[\"Genre1\"])}\n",
    "    "
   ]
  },
  {
   "cell_type": "code",
   "execution_count": 390,
   "id": "cdd6cddd",
   "metadata": {},
   "outputs": [],
   "source": [
    "data[\"Genre1\"] = data[\"Genre1\"].apply(lambda x : dict[x])"
   ]
  },
  {
   "cell_type": "code",
   "execution_count": 391,
   "id": "8f30c011",
   "metadata": {},
   "outputs": [],
   "source": [
    "data[\"Genre1\"] = data[\"Genre1\"] - 3313\n"
   ]
  },
  {
   "cell_type": "code",
   "execution_count": 392,
   "id": "7587cb86",
   "metadata": {},
   "outputs": [
    {
     "data": {
      "text/plain": [
       "1        2.197225\n",
       "3        3.583519\n",
       "5        6.719013\n",
       "6        6.991177\n",
       "8        5.789960\n",
       "           ...   \n",
       "15501    4.912655\n",
       "15503    3.806663\n",
       "15504    2.484907\n",
       "15505    6.486161\n",
       "15508    3.044523\n",
       "Name: LogVotes, Length: 7817, dtype: float32"
      ]
     },
     "execution_count": 392,
     "metadata": {},
     "output_type": "execute_result"
    }
   ],
   "source": [
    "data['LogVotes']=np.log1p(data['Votes'])\n",
    "data['LogVotes'] "
   ]
  },
  {
   "cell_type": "code",
   "execution_count": 393,
   "id": "560b0e92",
   "metadata": {},
   "outputs": [
    {
     "name": "stdout",
     "output_type": "stream",
     "text": [
      "<class 'pandas.core.frame.DataFrame'>\n",
      "Index: 7817 entries, 1 to 15508\n",
      "Data columns (total 8 columns):\n",
      " #   Column    Non-Null Count  Dtype  \n",
      "---  ------    --------------  -----  \n",
      " 0   Year      7817 non-null   float32\n",
      " 1   Duration  7817 non-null   int32  \n",
      " 2   Rating    7817 non-null   float64\n",
      " 3   Votes     7817 non-null   float32\n",
      " 4   Director  7817 non-null   int64  \n",
      " 5   Actor 1   7817 non-null   int64  \n",
      " 6   Genre1    7817 non-null   int64  \n",
      " 7   LogVotes  7817 non-null   float32\n",
      "dtypes: float32(3), float64(1), int32(1), int64(3)\n",
      "memory usage: 427.5 KB\n"
     ]
    }
   ],
   "source": [
    "data.info()"
   ]
  },
  {
   "cell_type": "code",
   "execution_count": 394,
   "id": "327aec54",
   "metadata": {},
   "outputs": [],
   "source": [
    "from sklearn.model_selection import train_test_split \n",
    "from sklearn.linear_model import LinearRegression\n",
    "from sklearn.metrics import mean_squared_error , r2_score"
   ]
  },
  {
   "cell_type": "code",
   "execution_count": 395,
   "id": "539a8e85",
   "metadata": {},
   "outputs": [],
   "source": [
    "x = data.drop(\"Rating\" , axis = 1)\n",
    "x.drop(\"Votes\" , axis = 1 , inplace = True )\n",
    "y = data[\"Rating\"]"
   ]
  },
  {
   "cell_type": "code",
   "execution_count": 396,
   "id": "224af9ec",
   "metadata": {},
   "outputs": [
    {
     "name": "stdout",
     "output_type": "stream",
     "text": [
      "Mean Squared Error (MSE): 1.72\n",
      "R-squared score: 0.11\n"
     ]
    }
   ],
   "source": [
    "\n",
    "xtrain , xtest , ytrain , ytest =train_test_split(x,y ,test_size=0.2,random_state=52)\n",
    "\n",
    "model=LinearRegression()\n",
    "model.fit(xtrain,ytrain)\n",
    "\n",
    "ypred= model.predict(xtest)\n",
    "\n",
    "mse =mean_squared_error(ytest,ypred)\n",
    "print(f\"Mean Squared Error (MSE): {mse:.2f}\")\n",
    "\n",
    "r2 = r2_score(ytest,ypred)\n",
    "print(f\"R-squared score: {r2:.2f}\")"
   ]
  },
  {
   "cell_type": "code",
   "execution_count": null,
   "id": "b3ec2bee",
   "metadata": {},
   "outputs": [],
   "source": []
  },
  {
   "cell_type": "code",
   "execution_count": null,
   "id": "73a8183b",
   "metadata": {},
   "outputs": [],
   "source": []
  },
  {
   "cell_type": "code",
   "execution_count": null,
   "id": "bb9ee8cc",
   "metadata": {},
   "outputs": [],
   "source": []
  },
  {
   "cell_type": "code",
   "execution_count": null,
   "id": "f179c160",
   "metadata": {},
   "outputs": [],
   "source": []
  },
  {
   "cell_type": "code",
   "execution_count": null,
   "id": "640707f0",
   "metadata": {},
   "outputs": [],
   "source": []
  },
  {
   "cell_type": "code",
   "execution_count": null,
   "id": "8f1e355c",
   "metadata": {},
   "outputs": [],
   "source": []
  },
  {
   "cell_type": "code",
   "execution_count": null,
   "id": "a236810a",
   "metadata": {},
   "outputs": [],
   "source": []
  },
  {
   "cell_type": "code",
   "execution_count": null,
   "id": "80ee9c39",
   "metadata": {},
   "outputs": [],
   "source": []
  },
  {
   "cell_type": "code",
   "execution_count": null,
   "id": "a673ce32",
   "metadata": {},
   "outputs": [],
   "source": []
  },
  {
   "cell_type": "code",
   "execution_count": null,
   "id": "6e7ce656",
   "metadata": {},
   "outputs": [],
   "source": []
  },
  {
   "cell_type": "code",
   "execution_count": null,
   "id": "1ef138db",
   "metadata": {},
   "outputs": [],
   "source": []
  },
  {
   "cell_type": "code",
   "execution_count": null,
   "id": "2fe25816",
   "metadata": {},
   "outputs": [],
   "source": []
  },
  {
   "cell_type": "code",
   "execution_count": null,
   "id": "3f5c0e6d",
   "metadata": {},
   "outputs": [],
   "source": []
  },
  {
   "cell_type": "code",
   "execution_count": null,
   "id": "4c74732c",
   "metadata": {},
   "outputs": [],
   "source": []
  },
  {
   "cell_type": "code",
   "execution_count": null,
   "id": "34e4d725",
   "metadata": {},
   "outputs": [],
   "source": []
  },
  {
   "cell_type": "code",
   "execution_count": null,
   "id": "9eff8319",
   "metadata": {},
   "outputs": [],
   "source": []
  },
  {
   "cell_type": "code",
   "execution_count": null,
   "id": "32ee5063",
   "metadata": {},
   "outputs": [],
   "source": []
  }
 ],
 "metadata": {
  "kernelspec": {
   "display_name": "Python 3 (ipykernel)",
   "language": "python",
   "name": "python3"
  },
  "language_info": {
   "codemirror_mode": {
    "name": "ipython",
    "version": 3
   },
   "file_extension": ".py",
   "mimetype": "text/x-python",
   "name": "python",
   "nbconvert_exporter": "python",
   "pygments_lexer": "ipython3",
   "version": "3.11.5"
  }
 },
 "nbformat": 4,
 "nbformat_minor": 5
}
