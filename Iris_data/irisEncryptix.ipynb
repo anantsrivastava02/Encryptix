{
 "cells": [
  {
   "cell_type": "code",
   "execution_count": 70,
   "id": "6c034ce9",
   "metadata": {},
   "outputs": [],
   "source": [
    "import pandas as pd \n",
    "import numpy as np \n",
    "import matplotlib.pyplot as plt \n",
    "import seaborn as sns "
   ]
  },
  {
   "cell_type": "code",
   "execution_count": 71,
   "id": "8c7ff25f",
   "metadata": {},
   "outputs": [],
   "source": [
    "data = pd.read_csv(\"IRIS.csv\")"
   ]
  },
  {
   "cell_type": "code",
   "execution_count": 72,
   "id": "7eb8fa31",
   "metadata": {},
   "outputs": [
    {
     "data": {
      "text/plain": [
       "(150, 5)"
      ]
     },
     "execution_count": 72,
     "metadata": {},
     "output_type": "execute_result"
    }
   ],
   "source": [
    "data.shape"
   ]
  },
  {
   "cell_type": "code",
   "execution_count": 73,
   "id": "f17c6757",
   "metadata": {},
   "outputs": [
    {
     "data": {
      "text/html": [
       "<div>\n",
       "<style scoped>\n",
       "    .dataframe tbody tr th:only-of-type {\n",
       "        vertical-align: middle;\n",
       "    }\n",
       "\n",
       "    .dataframe tbody tr th {\n",
       "        vertical-align: top;\n",
       "    }\n",
       "\n",
       "    .dataframe thead th {\n",
       "        text-align: right;\n",
       "    }\n",
       "</style>\n",
       "<table border=\"1\" class=\"dataframe\">\n",
       "  <thead>\n",
       "    <tr style=\"text-align: right;\">\n",
       "      <th></th>\n",
       "      <th>sepal_length</th>\n",
       "      <th>sepal_width</th>\n",
       "      <th>petal_length</th>\n",
       "      <th>petal_width</th>\n",
       "      <th>species</th>\n",
       "    </tr>\n",
       "  </thead>\n",
       "  <tbody>\n",
       "    <tr>\n",
       "      <th>0</th>\n",
       "      <td>5.1</td>\n",
       "      <td>3.5</td>\n",
       "      <td>1.4</td>\n",
       "      <td>0.2</td>\n",
       "      <td>Iris-setosa</td>\n",
       "    </tr>\n",
       "    <tr>\n",
       "      <th>1</th>\n",
       "      <td>4.9</td>\n",
       "      <td>3.0</td>\n",
       "      <td>1.4</td>\n",
       "      <td>0.2</td>\n",
       "      <td>Iris-setosa</td>\n",
       "    </tr>\n",
       "    <tr>\n",
       "      <th>2</th>\n",
       "      <td>4.7</td>\n",
       "      <td>3.2</td>\n",
       "      <td>1.3</td>\n",
       "      <td>0.2</td>\n",
       "      <td>Iris-setosa</td>\n",
       "    </tr>\n",
       "    <tr>\n",
       "      <th>3</th>\n",
       "      <td>4.6</td>\n",
       "      <td>3.1</td>\n",
       "      <td>1.5</td>\n",
       "      <td>0.2</td>\n",
       "      <td>Iris-setosa</td>\n",
       "    </tr>\n",
       "    <tr>\n",
       "      <th>4</th>\n",
       "      <td>5.0</td>\n",
       "      <td>3.6</td>\n",
       "      <td>1.4</td>\n",
       "      <td>0.2</td>\n",
       "      <td>Iris-setosa</td>\n",
       "    </tr>\n",
       "  </tbody>\n",
       "</table>\n",
       "</div>"
      ],
      "text/plain": [
       "   sepal_length  sepal_width  petal_length  petal_width      species\n",
       "0           5.1          3.5           1.4          0.2  Iris-setosa\n",
       "1           4.9          3.0           1.4          0.2  Iris-setosa\n",
       "2           4.7          3.2           1.3          0.2  Iris-setosa\n",
       "3           4.6          3.1           1.5          0.2  Iris-setosa\n",
       "4           5.0          3.6           1.4          0.2  Iris-setosa"
      ]
     },
     "execution_count": 73,
     "metadata": {},
     "output_type": "execute_result"
    }
   ],
   "source": [
    "data.head() "
   ]
  },
  {
   "cell_type": "code",
   "execution_count": 74,
   "id": "5b1d0f58",
   "metadata": {},
   "outputs": [
    {
     "data": {
      "text/plain": [
       "array(['Iris-setosa', 'Iris-versicolor', 'Iris-virginica'], dtype=object)"
      ]
     },
     "execution_count": 74,
     "metadata": {},
     "output_type": "execute_result"
    }
   ],
   "source": [
    "data[\"species\"].unique()"
   ]
  },
  {
   "cell_type": "code",
   "execution_count": 75,
   "id": "af162e85",
   "metadata": {},
   "outputs": [],
   "source": [
    "flower = {\"Iris-setosa\" : 0 , \"Iris-versicolor\" : 1 , \"Iris-virginica\" : 2}\n",
    "data[\"species\"] = data[\"species\"].apply(lambda x : flower[x])"
   ]
  },
  {
   "cell_type": "code",
   "execution_count": 76,
   "id": "955cb851",
   "metadata": {},
   "outputs": [
    {
     "name": "stdout",
     "output_type": "stream",
     "text": [
      "<class 'pandas.core.frame.DataFrame'>\n",
      "RangeIndex: 150 entries, 0 to 149\n",
      "Data columns (total 5 columns):\n",
      " #   Column        Non-Null Count  Dtype  \n",
      "---  ------        --------------  -----  \n",
      " 0   sepal_length  150 non-null    float64\n",
      " 1   sepal_width   150 non-null    float64\n",
      " 2   petal_length  150 non-null    float64\n",
      " 3   petal_width   150 non-null    float64\n",
      " 4   species       150 non-null    int64  \n",
      "dtypes: float64(4), int64(1)\n",
      "memory usage: 6.0 KB\n"
     ]
    }
   ],
   "source": [
    "data.info() "
   ]
  },
  {
   "cell_type": "code",
   "execution_count": 77,
   "id": "a0f4acf8",
   "metadata": {},
   "outputs": [
    {
     "data": {
      "text/plain": [
       "pandas.core.series.Series"
      ]
     },
     "execution_count": 77,
     "metadata": {},
     "output_type": "execute_result"
    }
   ],
   "source": [
    "x = data.iloc[ : , 0 : 4] \n",
    "y = data.loc[: , \"species\"]\n",
    "type(y)"
   ]
  },
  {
   "cell_type": "code",
   "execution_count": 78,
   "id": "d8839a5d",
   "metadata": {},
   "outputs": [],
   "source": [
    "from sklearn.model_selection import train_test_split\n",
    "xtrain , xtest , ytrain , ytest = train_test_split(x , y , test_size = 0.2 , random_state = 42)"
   ]
  },
  {
   "cell_type": "code",
   "execution_count": 79,
   "id": "78cbaa6d",
   "metadata": {},
   "outputs": [],
   "source": [
    "import tensorflow as tf \n",
    "from tensorflow import keras as k\n",
    "from tensorflow.keras import layers , models \n"
   ]
  },
  {
   "cell_type": "code",
   "execution_count": 82,
   "id": "53324fbc",
   "metadata": {},
   "outputs": [],
   "source": [
    "xtrain = tf.convert_to_tensor(xtrain.values , dtype = \"float32\")\n",
    "ytrain = tf.convert_to_tensor(ytrain.values , dtype = \"int32\")\n",
    "xtest = tf.convert_to_tensor(xtest.values , dtype = \"float32\")\n",
    "ytest = tf.convert_to_tensor(ytest.values , dtype = \"int32\")"
   ]
  },
  {
   "cell_type": "code",
   "execution_count": 83,
   "id": "ea485b4b",
   "metadata": {},
   "outputs": [
    {
     "data": {
      "text/plain": [
       "TensorShape([120, 4])"
      ]
     },
     "execution_count": 83,
     "metadata": {},
     "output_type": "execute_result"
    }
   ],
   "source": [
    "xtrain.shape"
   ]
  },
  {
   "cell_type": "code",
   "execution_count": 84,
   "id": "c83f59fe",
   "metadata": {},
   "outputs": [],
   "source": [
    "import tensorflow as tf\n",
    "from tensorflow.keras import layers, models\n",
    "class mymodel(models.Model):\n",
    "    def __init__(self ,input_shape , output_shape ):\n",
    "        super(mymodel , self).__init__() \n",
    "        self.layer2 = layers.Dense(64 , activation = \"relu\" , kernel_initializer='glorot_uniform' )\n",
    "        self.layer3 = layers.Dense(32 , activation = \"relu\" , kernel_initializer = 'glorot_uniform') \n",
    "        self.out = layers.Dense(3 , activation = \"sigmoid\") \n",
    "    def call(self , input_tensor , training = False ):\n",
    "        x = input_tensor\n",
    "        x = self.layer2(x , training=  training )\n",
    "        x = self.layer3(x , training = training)\n",
    "        return self.out(x , training = training) \n",
    "        "
   ]
  },
  {
   "cell_type": "code",
   "execution_count": 85,
   "id": "6187a5d4",
   "metadata": {},
   "outputs": [],
   "source": [
    "model = mymodel(4 , 3) \n",
    "model.compile(\n",
    "    optimizer = k.optimizers.Adam(), \n",
    "    loss = k.losses.SparseCategoricalCrossentropy(from_logits=True),\n",
    "    metrics = [\"accuracy\"]\n",
    ")"
   ]
  },
  {
   "cell_type": "code",
   "execution_count": 86,
   "id": "8d123232",
   "metadata": {},
   "outputs": [
    {
     "name": "stdout",
     "output_type": "stream",
     "text": [
      "Epoch 1/56\n"
     ]
    },
    {
     "name": "stderr",
     "output_type": "stream",
     "text": [
      "C:\\Users\\anant\\anaconda3\\Lib\\site-packages\\keras\\src\\backend\\tensorflow\\nn.py:602: UserWarning: \"`sparse_categorical_crossentropy` received `from_logits=True`, but the `output` argument was produced by a Softmax activation and thus does not represent logits. Was this intended?\n",
      "  output, from_logits = _get_logits(\n"
     ]
    },
    {
     "name": "stdout",
     "output_type": "stream",
     "text": [
      "2/2 - 1s - 407ms/step - accuracy: 0.6583 - loss: 0.9844\n",
      "Epoch 2/56\n",
      "2/2 - 0s - 17ms/step - accuracy: 0.6833 - loss: 0.9193\n",
      "Epoch 3/56\n",
      "2/2 - 0s - 19ms/step - accuracy: 0.6833 - loss: 0.8673\n",
      "Epoch 4/56\n",
      "2/2 - 0s - 22ms/step - accuracy: 0.6750 - loss: 0.8237\n",
      "Epoch 5/56\n",
      "2/2 - 0s - 23ms/step - accuracy: 0.6583 - loss: 0.7865\n",
      "Epoch 6/56\n",
      "2/2 - 0s - 14ms/step - accuracy: 0.6583 - loss: 0.7513\n",
      "Epoch 7/56\n",
      "2/2 - 0s - 13ms/step - accuracy: 0.6833 - loss: 0.7212\n",
      "Epoch 8/56\n",
      "2/2 - 0s - 14ms/step - accuracy: 0.7167 - loss: 0.6924\n",
      "Epoch 9/56\n",
      "2/2 - 0s - 11ms/step - accuracy: 0.7917 - loss: 0.6673\n",
      "Epoch 10/56\n",
      "2/2 - 0s - 17ms/step - accuracy: 0.8167 - loss: 0.6423\n",
      "Epoch 11/56\n",
      "2/2 - 0s - 15ms/step - accuracy: 0.8333 - loss: 0.6200\n",
      "Epoch 12/56\n",
      "2/2 - 0s - 16ms/step - accuracy: 0.8333 - loss: 0.6000\n",
      "Epoch 13/56\n",
      "2/2 - 0s - 16ms/step - accuracy: 0.8000 - loss: 0.5824\n",
      "Epoch 14/56\n",
      "2/2 - 0s - 16ms/step - accuracy: 0.8000 - loss: 0.5647\n",
      "Epoch 15/56\n",
      "2/2 - 0s - 19ms/step - accuracy: 0.8167 - loss: 0.5485\n",
      "Epoch 16/56\n",
      "2/2 - 0s - 17ms/step - accuracy: 0.8750 - loss: 0.5330\n",
      "Epoch 17/56\n",
      "2/2 - 0s - 12ms/step - accuracy: 0.9083 - loss: 0.5190\n",
      "Epoch 18/56\n",
      "2/2 - 0s - 14ms/step - accuracy: 0.9333 - loss: 0.5061\n",
      "Epoch 19/56\n",
      "2/2 - 0s - 16ms/step - accuracy: 0.9417 - loss: 0.4936\n",
      "Epoch 20/56\n",
      "2/2 - 0s - 12ms/step - accuracy: 0.9417 - loss: 0.4822\n",
      "Epoch 21/56\n",
      "2/2 - 0s - 17ms/step - accuracy: 0.9417 - loss: 0.4712\n",
      "Epoch 22/56\n",
      "2/2 - 0s - 14ms/step - accuracy: 0.9417 - loss: 0.4603\n",
      "Epoch 23/56\n",
      "2/2 - 0s - 12ms/step - accuracy: 0.9333 - loss: 0.4518\n",
      "Epoch 24/56\n",
      "2/2 - 0s - 15ms/step - accuracy: 0.9417 - loss: 0.4406\n",
      "Epoch 25/56\n",
      "2/2 - 0s - 15ms/step - accuracy: 0.9417 - loss: 0.4309\n",
      "Epoch 26/56\n",
      "2/2 - 0s - 16ms/step - accuracy: 0.9583 - loss: 0.4227\n",
      "Epoch 27/56\n",
      "2/2 - 0s - 13ms/step - accuracy: 0.9667 - loss: 0.4146\n",
      "Epoch 28/56\n",
      "2/2 - 0s - 15ms/step - accuracy: 0.9667 - loss: 0.4069\n",
      "Epoch 29/56\n",
      "2/2 - 0s - 18ms/step - accuracy: 0.9667 - loss: 0.3994\n",
      "Epoch 30/56\n",
      "2/2 - 0s - 18ms/step - accuracy: 0.9667 - loss: 0.3925\n",
      "Epoch 31/56\n",
      "2/2 - 0s - 16ms/step - accuracy: 0.9667 - loss: 0.3859\n",
      "Epoch 32/56\n",
      "2/2 - 0s - 15ms/step - accuracy: 0.9667 - loss: 0.3790\n",
      "Epoch 33/56\n",
      "2/2 - 0s - 13ms/step - accuracy: 0.9667 - loss: 0.3724\n",
      "Epoch 34/56\n",
      "2/2 - 0s - 12ms/step - accuracy: 0.9750 - loss: 0.3666\n",
      "Epoch 35/56\n",
      "2/2 - 0s - 15ms/step - accuracy: 0.9750 - loss: 0.3601\n",
      "Epoch 36/56\n",
      "2/2 - 0s - 13ms/step - accuracy: 0.9750 - loss: 0.3541\n",
      "Epoch 37/56\n",
      "2/2 - 0s - 17ms/step - accuracy: 0.9750 - loss: 0.3499\n",
      "Epoch 38/56\n",
      "2/2 - 0s - 13ms/step - accuracy: 0.9667 - loss: 0.3423\n",
      "Epoch 39/56\n",
      "2/2 - 0s - 38ms/step - accuracy: 0.9667 - loss: 0.3365\n",
      "Epoch 40/56\n",
      "2/2 - 0s - 25ms/step - accuracy: 0.9750 - loss: 0.3312\n",
      "Epoch 41/56\n",
      "2/2 - 0s - 20ms/step - accuracy: 0.9750 - loss: 0.3251\n",
      "Epoch 42/56\n",
      "2/2 - 0s - 18ms/step - accuracy: 0.9750 - loss: 0.3203\n",
      "Epoch 43/56\n",
      "2/2 - 0s - 18ms/step - accuracy: 0.9750 - loss: 0.3151\n",
      "Epoch 44/56\n",
      "2/2 - 0s - 17ms/step - accuracy: 0.9833 - loss: 0.3103\n",
      "Epoch 45/56\n",
      "2/2 - 0s - 13ms/step - accuracy: 0.9750 - loss: 0.3047\n",
      "Epoch 46/56\n",
      "2/2 - 0s - 13ms/step - accuracy: 0.9750 - loss: 0.2994\n",
      "Epoch 47/56\n",
      "2/2 - 0s - 16ms/step - accuracy: 0.9667 - loss: 0.2962\n",
      "Epoch 48/56\n",
      "2/2 - 0s - 16ms/step - accuracy: 0.9750 - loss: 0.2899\n",
      "Epoch 49/56\n",
      "2/2 - 0s - 16ms/step - accuracy: 0.9750 - loss: 0.2851\n",
      "Epoch 50/56\n",
      "2/2 - 0s - 17ms/step - accuracy: 0.9750 - loss: 0.2802\n",
      "Epoch 51/56\n",
      "2/2 - 0s - 16ms/step - accuracy: 0.9833 - loss: 0.2756\n",
      "Epoch 52/56\n",
      "2/2 - 0s - 10ms/step - accuracy: 0.9833 - loss: 0.2711\n",
      "Epoch 53/56\n",
      "2/2 - 0s - 15ms/step - accuracy: 0.9750 - loss: 0.2673\n",
      "Epoch 54/56\n",
      "2/2 - 0s - 18ms/step - accuracy: 0.9750 - loss: 0.2620\n",
      "Epoch 55/56\n",
      "2/2 - 0s - 18ms/step - accuracy: 0.9750 - loss: 0.2579\n",
      "Epoch 56/56\n",
      "2/2 - 0s - 12ms/step - accuracy: 0.9750 - loss: 0.2528\n"
     ]
    },
    {
     "data": {
      "text/plain": [
       "<keras.src.callbacks.history.History at 0x1e7c3583910>"
      ]
     },
     "execution_count": 86,
     "metadata": {},
     "output_type": "execute_result"
    }
   ],
   "source": [
    "model.fit(xtrain, ytrain , epochs = 56 , batch_size = 64 , verbose = 2 )"
   ]
  },
  {
   "cell_type": "code",
   "execution_count": 89,
   "id": "2ecbfbef",
   "metadata": {},
   "outputs": [
    {
     "name": "stdout",
     "output_type": "stream",
     "text": [
      "\u001b[1m1/1\u001b[0m \u001b[32m━━━━━━━━━━━━━━━━━━━━\u001b[0m\u001b[37m\u001b[0m \u001b[1m0s\u001b[0m 26ms/step - accuracy: 0.9667 - loss: 0.2574\n"
     ]
    },
    {
     "data": {
      "text/plain": [
       "[0.25739917159080505, 0.9666666388511658]"
      ]
     },
     "execution_count": 89,
     "metadata": {},
     "output_type": "execute_result"
    }
   ],
   "source": [
    "model.evaluate(xtest , ytest , batch_size = 64 , verbose= 1    )"
   ]
  },
  {
   "cell_type": "code",
   "execution_count": null,
   "id": "1bb338e8",
   "metadata": {},
   "outputs": [],
   "source": []
  }
 ],
 "metadata": {
  "kernelspec": {
   "display_name": "Python 3 (ipykernel)",
   "language": "python",
   "name": "python3"
  },
  "language_info": {
   "codemirror_mode": {
    "name": "ipython",
    "version": 3
   },
   "file_extension": ".py",
   "mimetype": "text/x-python",
   "name": "python",
   "nbconvert_exporter": "python",
   "pygments_lexer": "ipython3",
   "version": "3.11.5"
  }
 },
 "nbformat": 4,
 "nbformat_minor": 5
}
