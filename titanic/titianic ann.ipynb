{
 "cells": [
  {
   "cell_type": "code",
   "execution_count": 5,
   "id": "45c1103f",
   "metadata": {},
   "outputs": [],
   "source": [
    "import numpy as np \n",
    "import pandas as pd\n",
    "import matplotlib.pyplot as plt \n",
    "import seaborn as sns \n",
    "%matplotlib inline \n",
    "sns.set(rc = {\"figure.figsize\" :(12 ,10)})\n",
    "import warnings\n",
    "warnings.filterwarnings(\"ignore\")"
   ]
  },
  {
   "cell_type": "code",
   "execution_count": 28,
   "id": "fa71d3aa",
   "metadata": {},
   "outputs": [],
   "source": [
    "import random \n",
    "random.seed(101)"
   ]
  },
  {
   "cell_type": "code",
   "execution_count": 6,
   "id": "0b6e7fb5",
   "metadata": {},
   "outputs": [],
   "source": [
    "data = pd.read_csv(\"titanic_data.csv\")"
   ]
  },
  {
   "cell_type": "code",
   "execution_count": 7,
   "id": "b5fd4a48",
   "metadata": {},
   "outputs": [
    {
     "data": {
      "text/html": [
       "<div>\n",
       "<style scoped>\n",
       "    .dataframe tbody tr th:only-of-type {\n",
       "        vertical-align: middle;\n",
       "    }\n",
       "\n",
       "    .dataframe tbody tr th {\n",
       "        vertical-align: top;\n",
       "    }\n",
       "\n",
       "    .dataframe thead th {\n",
       "        text-align: right;\n",
       "    }\n",
       "</style>\n",
       "<table border=\"1\" class=\"dataframe\">\n",
       "  <thead>\n",
       "    <tr style=\"text-align: right;\">\n",
       "      <th></th>\n",
       "      <th>PassengerId</th>\n",
       "      <th>Survived</th>\n",
       "      <th>Pclass</th>\n",
       "      <th>Name</th>\n",
       "      <th>Sex</th>\n",
       "      <th>Age</th>\n",
       "      <th>SibSp</th>\n",
       "      <th>Parch</th>\n",
       "      <th>Ticket</th>\n",
       "      <th>Fare</th>\n",
       "      <th>Cabin</th>\n",
       "      <th>Embarked</th>\n",
       "    </tr>\n",
       "  </thead>\n",
       "  <tbody>\n",
       "    <tr>\n",
       "      <th>0</th>\n",
       "      <td>1</td>\n",
       "      <td>0</td>\n",
       "      <td>3</td>\n",
       "      <td>Braund, Mr. Owen Harris</td>\n",
       "      <td>male</td>\n",
       "      <td>22.0</td>\n",
       "      <td>1</td>\n",
       "      <td>0</td>\n",
       "      <td>A/5 21171</td>\n",
       "      <td>7.2500</td>\n",
       "      <td>NaN</td>\n",
       "      <td>S</td>\n",
       "    </tr>\n",
       "    <tr>\n",
       "      <th>1</th>\n",
       "      <td>2</td>\n",
       "      <td>1</td>\n",
       "      <td>1</td>\n",
       "      <td>Cumings, Mrs. John Bradley (Florence Briggs Th...</td>\n",
       "      <td>female</td>\n",
       "      <td>38.0</td>\n",
       "      <td>1</td>\n",
       "      <td>0</td>\n",
       "      <td>PC 17599</td>\n",
       "      <td>71.2833</td>\n",
       "      <td>C85</td>\n",
       "      <td>C</td>\n",
       "    </tr>\n",
       "    <tr>\n",
       "      <th>2</th>\n",
       "      <td>3</td>\n",
       "      <td>1</td>\n",
       "      <td>3</td>\n",
       "      <td>Heikkinen, Miss. Laina</td>\n",
       "      <td>female</td>\n",
       "      <td>26.0</td>\n",
       "      <td>0</td>\n",
       "      <td>0</td>\n",
       "      <td>STON/O2. 3101282</td>\n",
       "      <td>7.9250</td>\n",
       "      <td>NaN</td>\n",
       "      <td>S</td>\n",
       "    </tr>\n",
       "    <tr>\n",
       "      <th>3</th>\n",
       "      <td>4</td>\n",
       "      <td>1</td>\n",
       "      <td>1</td>\n",
       "      <td>Futrelle, Mrs. Jacques Heath (Lily May Peel)</td>\n",
       "      <td>female</td>\n",
       "      <td>35.0</td>\n",
       "      <td>1</td>\n",
       "      <td>0</td>\n",
       "      <td>113803</td>\n",
       "      <td>53.1000</td>\n",
       "      <td>C123</td>\n",
       "      <td>S</td>\n",
       "    </tr>\n",
       "    <tr>\n",
       "      <th>4</th>\n",
       "      <td>5</td>\n",
       "      <td>0</td>\n",
       "      <td>3</td>\n",
       "      <td>Allen, Mr. William Henry</td>\n",
       "      <td>male</td>\n",
       "      <td>35.0</td>\n",
       "      <td>0</td>\n",
       "      <td>0</td>\n",
       "      <td>373450</td>\n",
       "      <td>8.0500</td>\n",
       "      <td>NaN</td>\n",
       "      <td>S</td>\n",
       "    </tr>\n",
       "    <tr>\n",
       "      <th>5</th>\n",
       "      <td>6</td>\n",
       "      <td>0</td>\n",
       "      <td>3</td>\n",
       "      <td>Moran, Mr. James</td>\n",
       "      <td>male</td>\n",
       "      <td>NaN</td>\n",
       "      <td>0</td>\n",
       "      <td>0</td>\n",
       "      <td>330877</td>\n",
       "      <td>8.4583</td>\n",
       "      <td>NaN</td>\n",
       "      <td>Q</td>\n",
       "    </tr>\n",
       "    <tr>\n",
       "      <th>6</th>\n",
       "      <td>7</td>\n",
       "      <td>0</td>\n",
       "      <td>1</td>\n",
       "      <td>McCarthy, Mr. Timothy J</td>\n",
       "      <td>male</td>\n",
       "      <td>54.0</td>\n",
       "      <td>0</td>\n",
       "      <td>0</td>\n",
       "      <td>17463</td>\n",
       "      <td>51.8625</td>\n",
       "      <td>E46</td>\n",
       "      <td>S</td>\n",
       "    </tr>\n",
       "    <tr>\n",
       "      <th>7</th>\n",
       "      <td>8</td>\n",
       "      <td>0</td>\n",
       "      <td>3</td>\n",
       "      <td>Palsson, Master. Gosta Leonard</td>\n",
       "      <td>male</td>\n",
       "      <td>2.0</td>\n",
       "      <td>3</td>\n",
       "      <td>1</td>\n",
       "      <td>349909</td>\n",
       "      <td>21.0750</td>\n",
       "      <td>NaN</td>\n",
       "      <td>S</td>\n",
       "    </tr>\n",
       "    <tr>\n",
       "      <th>8</th>\n",
       "      <td>9</td>\n",
       "      <td>1</td>\n",
       "      <td>3</td>\n",
       "      <td>Johnson, Mrs. Oscar W (Elisabeth Vilhelmina Berg)</td>\n",
       "      <td>female</td>\n",
       "      <td>27.0</td>\n",
       "      <td>0</td>\n",
       "      <td>2</td>\n",
       "      <td>347742</td>\n",
       "      <td>11.1333</td>\n",
       "      <td>NaN</td>\n",
       "      <td>S</td>\n",
       "    </tr>\n",
       "    <tr>\n",
       "      <th>9</th>\n",
       "      <td>10</td>\n",
       "      <td>1</td>\n",
       "      <td>2</td>\n",
       "      <td>Nasser, Mrs. Nicholas (Adele Achem)</td>\n",
       "      <td>female</td>\n",
       "      <td>14.0</td>\n",
       "      <td>1</td>\n",
       "      <td>0</td>\n",
       "      <td>237736</td>\n",
       "      <td>30.0708</td>\n",
       "      <td>NaN</td>\n",
       "      <td>C</td>\n",
       "    </tr>\n",
       "  </tbody>\n",
       "</table>\n",
       "</div>"
      ],
      "text/plain": [
       "   PassengerId  Survived  Pclass  \\\n",
       "0            1         0       3   \n",
       "1            2         1       1   \n",
       "2            3         1       3   \n",
       "3            4         1       1   \n",
       "4            5         0       3   \n",
       "5            6         0       3   \n",
       "6            7         0       1   \n",
       "7            8         0       3   \n",
       "8            9         1       3   \n",
       "9           10         1       2   \n",
       "\n",
       "                                                Name     Sex   Age  SibSp  \\\n",
       "0                            Braund, Mr. Owen Harris    male  22.0      1   \n",
       "1  Cumings, Mrs. John Bradley (Florence Briggs Th...  female  38.0      1   \n",
       "2                             Heikkinen, Miss. Laina  female  26.0      0   \n",
       "3       Futrelle, Mrs. Jacques Heath (Lily May Peel)  female  35.0      1   \n",
       "4                           Allen, Mr. William Henry    male  35.0      0   \n",
       "5                                   Moran, Mr. James    male   NaN      0   \n",
       "6                            McCarthy, Mr. Timothy J    male  54.0      0   \n",
       "7                     Palsson, Master. Gosta Leonard    male   2.0      3   \n",
       "8  Johnson, Mrs. Oscar W (Elisabeth Vilhelmina Berg)  female  27.0      0   \n",
       "9                Nasser, Mrs. Nicholas (Adele Achem)  female  14.0      1   \n",
       "\n",
       "   Parch            Ticket     Fare Cabin Embarked  \n",
       "0      0         A/5 21171   7.2500   NaN        S  \n",
       "1      0          PC 17599  71.2833   C85        C  \n",
       "2      0  STON/O2. 3101282   7.9250   NaN        S  \n",
       "3      0            113803  53.1000  C123        S  \n",
       "4      0            373450   8.0500   NaN        S  \n",
       "5      0            330877   8.4583   NaN        Q  \n",
       "6      0             17463  51.8625   E46        S  \n",
       "7      1            349909  21.0750   NaN        S  \n",
       "8      2            347742  11.1333   NaN        S  \n",
       "9      0            237736  30.0708   NaN        C  "
      ]
     },
     "execution_count": 7,
     "metadata": {},
     "output_type": "execute_result"
    }
   ],
   "source": [
    "data.head(10)"
   ]
  },
  {
   "cell_type": "code",
   "execution_count": 8,
   "id": "782205f6",
   "metadata": {},
   "outputs": [
    {
     "name": "stdout",
     "output_type": "stream",
     "text": [
      "<class 'pandas.core.frame.DataFrame'>\n",
      "RangeIndex: 891 entries, 0 to 890\n",
      "Data columns (total 12 columns):\n",
      " #   Column       Non-Null Count  Dtype  \n",
      "---  ------       --------------  -----  \n",
      " 0   PassengerId  891 non-null    int64  \n",
      " 1   Survived     891 non-null    int64  \n",
      " 2   Pclass       891 non-null    int64  \n",
      " 3   Name         891 non-null    object \n",
      " 4   Sex          891 non-null    object \n",
      " 5   Age          714 non-null    float64\n",
      " 6   SibSp        891 non-null    int64  \n",
      " 7   Parch        891 non-null    int64  \n",
      " 8   Ticket       891 non-null    object \n",
      " 9   Fare         891 non-null    float64\n",
      " 10  Cabin        204 non-null    object \n",
      " 11  Embarked     889 non-null    object \n",
      "dtypes: float64(2), int64(5), object(5)\n",
      "memory usage: 83.7+ KB\n"
     ]
    }
   ],
   "source": [
    "data.info()"
   ]
  },
  {
   "cell_type": "code",
   "execution_count": 13,
   "id": "8604d040",
   "metadata": {},
   "outputs": [],
   "source": [
    "dict_live = { 0 : \"died\" , 1 :\"survived\"}\n",
    "dict_sex = {\"male\" : 1 ,\n",
    "            \"female\" : 0}\n",
    "data[\"Bsex\"] = data[\"Sex\"].apply(lambda x : dict_sex[x])\n",
    "# feature \n",
    "feature = data[[\"Pclass\" , \"Bsex\"]].to_numpy()\n",
    "labels = data[\"Survived\"].to_numpy()\n",
    "# feature need to be converted to numpy arraay for the operations "
   ]
  },
  {
   "cell_type": "code",
   "execution_count": 14,
   "id": "1fe4446f",
   "metadata": {},
   "outputs": [],
   "source": [
    "#splitting the data \n",
    "from sklearn.model_selection import train_test_split\n",
    "xtrain , xtest , ytrain , ytest = train_test_split(feature , labels , random_state= 0 , test_size=0.3)"
   ]
  },
  {
   "cell_type": "code",
   "execution_count": 35,
   "id": "8739eabc",
   "metadata": {},
   "outputs": [],
   "source": [
    "# sigmoid \n",
    "def sigmoid(x , derivative = False ):\n",
    "    temp = 1/(1 +np.exp(-x)) \n",
    "    if(derivative):\n",
    "        return  temp*(1 - temp)\n",
    "    else:\n",
    "        return temp \n",
    "def relu(x , derivative = False):\n",
    "    if derivative :\n",
    "        f = np.heaviside(x ,1)\n",
    "    else:\n",
    "        f = np.maximum(x , 0)\n",
    "    return f "
   ]
  },
  {
   "cell_type": "code",
   "execution_count": 48,
   "id": "dca7149e",
   "metadata": {},
   "outputs": [],
   "source": [
    "def train_ANN(xtrain , ytrain , h1_units = 4 , h2_units = 4 , learning_rate = 0.0015):\n",
    "    random.seed(101) \n",
    "    w1 = 2*np.random.rand(h1_units , xtrain.shape[1])\n",
    "    b1 = np.random.rand(h1_units)\n",
    "    #hidden layer 2 \n",
    "    w2 = 2 *np.random.rand(h2_units , h1_units)\n",
    "    b2 = np.random.rand(h2_units)\n",
    "    #output layer\n",
    "    w_out = 2*np.random.rand(h2_units)\n",
    "    b_out = np.random.rand(1)\n",
    "    vec_y = [] \n",
    "    \n",
    "    loss =[]\n",
    "    for i in range(0 , xtrain.shape[0]):\n",
    "        x_data = xtrain[i] \n",
    "        h1 = relu(np.dot(w1 , x_data) + b1)\n",
    "        h2 = relu(np.dot(w2 , h1) + b2)\n",
    "        y = sigmoid(np.dot(w_out , h2) + b_out)\n",
    "        # backpropagation\n",
    "        delta_out = (y -ytrain[i])*sigmoid(y , derivative= True)\n",
    "        delta2 = delta_out* w_out *relu(h2 , derivative = True)\n",
    "        delta1 =  np.dot(delta2 , w2) *relu(h1 , derivative = True)\n",
    "        w_out = w_out - learning_rate*delta_out*h2 \n",
    "        b_out = b_out - learning_rate*delta_out\n",
    "        \n",
    "        w2 = w2 -learning_rate*np.kron(delta2 , h1 ).reshape(h2_units , h1_units)\n",
    "        b2 = b2 - learning_rate*delta2\n",
    "        w1 = w1 -learning_rate*np.kron(delta1 , x_data).reshape(h1_units , x_data.shape[0])\n",
    "        b1 = b1 - learning_rate*delta1\n",
    "        loss.append((1/2) * (y - ytrain[i])**2 )\n",
    "        vec_y.append(y[0])\n",
    "    batch_loss = []\n",
    "    for i in range(0 , 10):\n",
    "        loss_avg = 0\n",
    "        for m in range(0 , 60):\n",
    "            loss_avg += vec_y[60*i + m]/60\n",
    "        batch_loss.append(loss_avg)\n",
    "    plt.figure(figsize= (10, 6))\n",
    "    plt.plot(np.arange(1 , len(batch_loss)+1) , batch_loss)\n",
    "    plt.title(\"average loss by epoch\")\n",
    "    plt.xlabel(\"Epoch\")\n",
    "    plt.ylabel(\"Loss\")\n",
    "    plt.show()\n",
    "    \n",
    "    return w1 , b1 , w2 , b2 ,w_out , b_out , loss "
   ]
  },
  {
   "cell_type": "code",
   "execution_count": 49,
   "id": "7d639198",
   "metadata": {},
   "outputs": [
    {
     "data": {
      "image/png": "[encoded data removed]",
      "text/plain": [
       "<Figure size 1000x600 with 1 Axes>"
      ]
     },
     "metadata": {},
     "output_type": "display_data"
    }
   ],
   "source": [
    " w1 , b1 , w2 , b2 , w_out ,b_out , loss  = train_ANN(xtrain , ytrain )"
   ]
  },
  {
   "cell_type": "code",
   "execution_count": 51,
   "id": "01faa4fd",
   "metadata": {},
   "outputs": [],
   "source": [
    "def ANN_pred(xtest ,w1 , b1 , w2 , b2 , w_out ,b_out , loss  ):\n",
    "    pred = []\n",
    "    for i in range(0 , xtest.shape[0]):\n",
    "        x = xtest[i] \n",
    "        z1 = relu(np.dot(w1 , x) + b1)\n",
    "        z2 = relu(np.dot(w2 , z1) + b2)\n",
    "        y = sigmoid(np.dot(w_out , z2) + b_out)\n",
    "      \n",
    "        pred.append(np.heaviside(y-0.5 , 1)[0])\n",
    "    return pred ;"
   ]
  },
  {
   "cell_type": "code",
   "execution_count": 52,
   "id": "3c5b2826",
   "metadata": {},
   "outputs": [],
   "source": [
    "prediction = ANN_pred(xtest ,w1 , b1 , w2 , b2 , w_out ,b_out , loss  )"
   ]
  },
  {
   "cell_type": "code",
   "execution_count": 54,
   "id": "4254d42c",
   "metadata": {},
   "outputs": [
    {
     "data": {
      "text/plain": [
       "0.0037313432835820895"
      ]
     },
     "execution_count": 54,
     "metadata": {},
     "output_type": "execute_result"
    }
   ],
   "source": [
    "loss = np.mean(ytest - prediction)\n",
    "loss"
   ]
  },
  {
   "cell_type": "code",
   "execution_count": 57,
   "id": "7d42685c",
   "metadata": {},
   "outputs": [],
   "source": [
    "from sklearn.metrics import accuracy_score , confusion_matrix\n",
    "cm = confusion_matrix(ytest , prediction)\n",
    "df_cm = pd.DataFrame(cm , index = [dict_live[i] for i in range(0 ,2)] ,\n",
    "                    columns= [dict_live[i] for i in range(0,2)])"
   ]
  },
  {
   "cell_type": "code",
   "execution_count": 58,
   "id": "9ad278eb",
   "metadata": {},
   "outputs": [
    {
     "data": {
      "text/html": [
       "<div>\n",
       "<style scoped>\n",
       "    .dataframe tbody tr th:only-of-type {\n",
       "        vertical-align: middle;\n",
       "    }\n",
       "\n",
       "    .dataframe tbody tr th {\n",
       "        vertical-align: top;\n",
       "    }\n",
       "\n",
       "    .dataframe thead th {\n",
       "        text-align: right;\n",
       "    }\n",
       "</style>\n",
       "<table border=\"1\" class=\"dataframe\">\n",
       "  <thead>\n",
       "    <tr style=\"text-align: right;\">\n",
       "      <th></th>\n",
       "      <th>died</th>\n",
       "      <th>survived</th>\n",
       "    </tr>\n",
       "  </thead>\n",
       "  <tbody>\n",
       "    <tr>\n",
       "      <th>died</th>\n",
       "      <td>140</td>\n",
       "      <td>28</td>\n",
       "    </tr>\n",
       "    <tr>\n",
       "      <th>survived</th>\n",
       "      <td>29</td>\n",
       "      <td>71</td>\n",
       "    </tr>\n",
       "  </tbody>\n",
       "</table>\n",
       "</div>"
      ],
      "text/plain": [
       "          died  survived\n",
       "died       140        28\n",
       "survived    29        71"
      ]
     },
     "execution_count": 58,
     "metadata": {},
     "output_type": "execute_result"
    }
   ],
   "source": [
    "df_cm"
   ]
  },
  {
   "cell_type": "code",
   "execution_count": 60,
   "id": "0df7c00c",
   "metadata": {},
   "outputs": [
    {
     "data": {
      "image/png": "[encoded data removed]",
      "text/plain": [
       "<Figure size 700x700 with 2 Axes>"
      ]
     },
     "metadata": {},
     "output_type": "display_data"
    }
   ],
   "source": [
    "plt.figure(figsize=(7 ,7))\n",
    "sns.heatmap(df_cm , annot = True , cmap =plt.cm.Blues , fmt = 'g')\n",
    "plt.xlabel(\"predicted class\")\n",
    "plt.ylabel(\"true class \")\n",
    "plt.show()"
   ]
  },
  {
   "cell_type": "code",
   "execution_count": 61,
   "id": "8da127c2",
   "metadata": {},
   "outputs": [
    {
     "data": {
      "text/plain": [
       "0.7873134328358209"
      ]
     },
     "execution_count": 61,
     "metadata": {},
     "output_type": "execute_result"
    }
   ],
   "source": [
    "accuracy_score(ytest , prediction)"
   ]
  },
  {
   "cell_type": "code",
   "execution_count": null,
   "id": "c00e1ed5",
   "metadata": {},
   "outputs": [],
   "source": []
  }
 ],
 "metadata": {
  "kernelspec": {
   "display_name": "Python 3 (ipykernel)",
   "language": "python",
   "name": "python3"
  },
  "language_info": {
   "codemirror_mode": {
    "name": "ipython",
    "version": 3
   },
   "file_extension": ".py",
   "mimetype": "text/x-python",
   "name": "python",
   "nbconvert_exporter": "python",
   "pygments_lexer": "ipython3",
   "version": "3.11.5"
  }
 },
 "nbformat": 4,
 "nbformat_minor": 5
}
